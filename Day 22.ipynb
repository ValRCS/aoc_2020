{
 "cells": [
  {
   "cell_type": "code",
   "execution_count": 1,
   "metadata": {},
   "outputs": [],
   "source": [
    "data = \"\"\"Player 1:\n",
    "8\n",
    "19\n",
    "46\n",
    "11\n",
    "36\n",
    "10\n",
    "35\n",
    "9\n",
    "24\n",
    "22\n",
    "50\n",
    "1\n",
    "34\n",
    "7\n",
    "18\n",
    "28\n",
    "3\n",
    "38\n",
    "43\n",
    "2\n",
    "6\n",
    "42\n",
    "23\n",
    "12\n",
    "20\n",
    "\n",
    "Player 2:\n",
    "39\n",
    "27\n",
    "44\n",
    "29\n",
    "5\n",
    "48\n",
    "30\n",
    "32\n",
    "15\n",
    "31\n",
    "14\n",
    "21\n",
    "49\n",
    "17\n",
    "45\n",
    "47\n",
    "16\n",
    "26\n",
    "33\n",
    "25\n",
    "13\n",
    "41\n",
    "4\n",
    "40\n",
    "37\n",
    "\"\"\""
   ]
  },
  {
   "cell_type": "code",
   "execution_count": 2,
   "metadata": {},
   "outputs": [
    {
     "data": {
      "text/plain": [
       "54"
      ]
     },
     "execution_count": 2,
     "metadata": {},
     "output_type": "execute_result"
    }
   ],
   "source": [
    "lines = data.split(\"\\n\")\n",
    "len(lines)"
   ]
  },
  {
   "cell_type": "code",
   "execution_count": 7,
   "metadata": {},
   "outputs": [
    {
     "data": {
      "text/plain": [
       "27"
      ]
     },
     "execution_count": 7,
     "metadata": {},
     "output_type": "execute_result"
    }
   ],
   "source": [
    "p2_start = lines.index(\"Player 2:\")\n",
    "p2_start"
   ]
  },
  {
   "cell_type": "code",
   "execution_count": 12,
   "metadata": {},
   "outputs": [],
   "source": [
    "player1 = lines[:p2_start]\n",
    "player2 = lines[p2_start:]"
   ]
  },
  {
   "cell_type": "code",
   "execution_count": 13,
   "metadata": {},
   "outputs": [
    {
     "data": {
      "text/plain": [
       "(27, 27)"
      ]
     },
     "execution_count": 13,
     "metadata": {},
     "output_type": "execute_result"
    }
   ],
   "source": [
    "len(player1),len(player2)"
   ]
  },
  {
   "cell_type": "code",
   "execution_count": 11,
   "metadata": {},
   "outputs": [
    {
     "data": {
      "text/plain": [
       "[8,\n",
       " 19,\n",
       " 46,\n",
       " 11,\n",
       " 36,\n",
       " 10,\n",
       " 35,\n",
       " 9,\n",
       " 24,\n",
       " 22,\n",
       " 50,\n",
       " 1,\n",
       " 34,\n",
       " 7,\n",
       " 18,\n",
       " 28,\n",
       " 3,\n",
       " 38,\n",
       " 43,\n",
       " 2,\n",
       " 6,\n",
       " 42,\n",
       " 23,\n",
       " 12,\n",
       " 20]"
      ]
     },
     "execution_count": 11,
     "metadata": {},
     "output_type": "execute_result"
    }
   ],
   "source": [
    "p1 = [int(line) for line in player1[1:] if len(line) > 0] # we skip the first line\n",
    "p1"
   ]
  },
  {
   "cell_type": "code",
   "execution_count": 14,
   "metadata": {},
   "outputs": [
    {
     "data": {
      "text/plain": [
       "[39,\n",
       " 27,\n",
       " 44,\n",
       " 29,\n",
       " 5,\n",
       " 48,\n",
       " 30,\n",
       " 32,\n",
       " 15,\n",
       " 31,\n",
       " 14,\n",
       " 21,\n",
       " 49,\n",
       " 17,\n",
       " 45,\n",
       " 47,\n",
       " 16,\n",
       " 26,\n",
       " 33,\n",
       " 25,\n",
       " 13,\n",
       " 41,\n",
       " 4,\n",
       " 40,\n",
       " 37]"
      ]
     },
     "execution_count": 14,
     "metadata": {},
     "output_type": "execute_result"
    }
   ],
   "source": [
    "p2 = [int(line) for line in player2[1:] if len(line) > 0]\n",
    "p2"
   ]
  }
 ],
 "metadata": {
  "kernelspec": {
   "display_name": "Python 3",
   "language": "python",
   "name": "python3"
  },
  "language_info": {
   "codemirror_mode": {
    "name": "ipython",
    "version": 3
   },
   "file_extension": ".py",
   "mimetype": "text/x-python",
   "name": "python",
   "nbconvert_exporter": "python",
   "pygments_lexer": "ipython3",
   "version": "3.8.3"
  }
 },
 "nbformat": 4,
 "nbformat_minor": 4
}
